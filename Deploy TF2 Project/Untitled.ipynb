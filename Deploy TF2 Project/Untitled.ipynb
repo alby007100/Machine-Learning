{
 "cells": [
  {
   "cell_type": "code",
   "execution_count": 5,
   "metadata": {},
   "outputs": [],
   "source": [
    "try:\n",
    "    %tensorflow_version 2.x\n",
    "except:\n",
    "    pass"
   ]
  },
  {
   "cell_type": "code",
   "execution_count": 6,
   "metadata": {},
   "outputs": [
    {
     "name": "stdout",
     "output_type": "stream",
     "text": [
      "2.1.0\n"
     ]
    }
   ],
   "source": [
    "# Helper libraries\n",
    "import numpy as np\n",
    "import os\n",
    " \n",
    "# TensorFlow\n",
    "import tensorflow as tf\n",
    " \n",
    "print(tf.__version__)"
   ]
  },
  {
   "cell_type": "code",
   "execution_count": 7,
   "metadata": {},
   "outputs": [],
   "source": [
    "# We then create our dataset\n",
    "X = np.arange(-10.0, 10.0, 1e-2)\n",
    "np.random.shuffle(X)\n",
    "y = 2 * X + 1\n",
    " \n",
    "train_end = int(0.6 * len(X))\n",
    "test_start = int(0.8 * len(X))\n",
    " \n",
    "X_train, y_train = X[:train_end], y[:train_end]\n",
    "X_test, y_test = X[test_start:], y[test_start:]\n",
    "X_val, y_val = X[train_end:test_start], y[train_end:test_start]"
   ]
  },
  {
   "cell_type": "code",
   "execution_count": 8,
   "metadata": {},
   "outputs": [
    {
     "name": "stdout",
     "output_type": "stream",
     "text": [
      "Model: \"sequential\"\n",
      "_________________________________________________________________\n",
      "Layer (type)                 Output Shape              Param #   \n",
      "=================================================================\n",
      "Single (Dense)               (None, 1)                 2         \n",
      "=================================================================\n",
      "Total params: 2\n",
      "Trainable params: 2\n",
      "Non-trainable params: 0\n",
      "_________________________________________________________________\n"
     ]
    }
   ],
   "source": [
    "# Then we build our model. Since it is a simple linear relationship, \n",
    "# a single neuron is enough.\n",
    "tf.keras.backend.clear_session()\n",
    "linear_model = tf.keras.models.Sequential([\n",
    "                                           tf.keras.layers.Dense(units=1, input_shape=[1], name='Single')\n",
    "                                           ])\n",
    "linear_model.compile(optimizer=tf.keras.optimizers.SGD(), loss=tf.keras.losses.mean_squared_error)\n",
    "linear_model.summary()"
   ]
  },
  {
   "cell_type": "code",
   "execution_count": 9,
   "metadata": {},
   "outputs": [
    {
     "name": "stdout",
     "output_type": "stream",
     "text": [
      "Train on 1200 samples, validate on 400 samples\n",
      "Epoch 1/20\n",
      "1200/1200 [==============================] - 1s 492us/sample - loss: 8.8156 - val_loss: 0.2076\n",
      "Epoch 2/20\n",
      "1200/1200 [==============================] - 0s 75us/sample - loss: 0.1071 - val_loss: 0.0459\n",
      "Epoch 3/20\n",
      "1200/1200 [==============================] - 0s 58us/sample - loss: 0.0233 - val_loss: 0.0094\n",
      "Epoch 4/20\n",
      "1200/1200 [==============================] - 0s 55us/sample - loss: 0.0050 - val_loss: 0.0023\n",
      "Epoch 5/20\n",
      "1200/1200 [==============================] - 0s 57us/sample - loss: 0.0011 - val_loss: 4.7398e-04\n",
      "Epoch 6/20\n",
      "1200/1200 [==============================] - 0s 71us/sample - loss: 2.3789e-04 - val_loss: 9.6317e-05\n",
      "Epoch 7/20\n",
      "1200/1200 [==============================] - 0s 57us/sample - loss: 5.0063e-05 - val_loss: 2.0779e-05\n",
      "Epoch 8/20\n",
      "1200/1200 [==============================] - 0s 55us/sample - loss: 1.0831e-05 - val_loss: 4.4809e-06\n",
      "Epoch 9/20\n",
      "1200/1200 [==============================] - 0s 66us/sample - loss: 2.3382e-06 - val_loss: 1.0264e-06\n",
      "Epoch 10/20\n",
      "1200/1200 [==============================] - 0s 57us/sample - loss: 5.0688e-07 - val_loss: 2.0211e-07\n",
      "Epoch 11/20\n",
      "1200/1200 [==============================] - 0s 55us/sample - loss: 1.0787e-07 - val_loss: 4.7480e-08\n",
      "Epoch 12/20\n",
      "1200/1200 [==============================] - 0s 54us/sample - loss: 2.3353e-08 - val_loss: 9.5484e-09\n",
      "Epoch 13/20\n",
      "1200/1200 [==============================] - 0s 58us/sample - loss: 5.0132e-09 - val_loss: 2.0309e-09\n",
      "Epoch 14/20\n",
      "1200/1200 [==============================] - 0s 56us/sample - loss: 1.0915e-09 - val_loss: 4.4056e-10\n",
      "Epoch 15/20\n",
      "1200/1200 [==============================] - 0s 57us/sample - loss: 2.2842e-10 - val_loss: 9.1850e-11\n",
      "Epoch 16/20\n",
      "1200/1200 [==============================] - 0s 72us/sample - loss: 5.0986e-11 - val_loss: 2.1947e-11\n",
      "Epoch 17/20\n",
      "1200/1200 [==============================] - ETA: 0s - loss: 1.3523e-1 - 0s 80us/sample - loss: 1.1575e-11 - val_loss: 3.9483e-12\n",
      "Epoch 18/20\n",
      "1200/1200 [==============================] - 0s 74us/sample - loss: 2.3738e-12 - val_loss: 1.9276e-12\n",
      "Epoch 19/20\n",
      "1200/1200 [==============================] - 0s 68us/sample - loss: 1.9068e-12 - val_loss: 1.8927e-12\n",
      "Epoch 20/20\n",
      "1200/1200 [==============================] - 0s 73us/sample - loss: 1.8203e-12 - val_loss: 1.8478e-12\n",
      "1.7415903788564613e-12\n",
      "15.886\n"
     ]
    }
   ],
   "source": [
    "# We now train our model for 20 epochs\n",
    "linear_model.fit(X_train, y_train, validation_data=(X_val, y_val), epochs=20)\n",
    "print(linear_model.evaluate(X_test, y_test, verbose=0))\n",
    "print(round(linear_model.predict([7.443]).tolist()[0][0], 4)) # expected:15.886"
   ]
  },
  {
   "cell_type": "code",
   "execution_count": null,
   "metadata": {},
   "outputs": [],
   "source": []
  }
 ],
 "metadata": {
  "kernelspec": {
   "display_name": "Python 3",
   "language": "python",
   "name": "python3"
  },
  "language_info": {
   "codemirror_mode": {
    "name": "ipython",
    "version": 3
   },
   "file_extension": ".py",
   "mimetype": "text/x-python",
   "name": "python",
   "nbconvert_exporter": "python",
   "pygments_lexer": "ipython3",
   "version": "3.7.7"
  }
 },
 "nbformat": 4,
 "nbformat_minor": 4
}
